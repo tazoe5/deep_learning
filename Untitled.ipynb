{
 "cells": [
  {
   "cell_type": "markdown",
   "metadata": {},
   "source": [
    "## Problem 1"
   ]
  },
  {
   "cell_type": "markdown",
   "metadata": {},
   "source": [
    "### データセットの生成\n",
    "\n",
    "- サンプルプログラムを参照した"
   ]
  },
  {
   "cell_type": "code",
   "execution_count": 1,
   "metadata": {
    "collapsed": true
   },
   "outputs": [],
   "source": [
    "import numpy as np\n",
    "from numpy.random import rand,  randn\n",
    "\n",
    "def dataset1():\n",
    "    n = 100\n",
    "    x = 3 * (rand(n, 2) - 0.5)\n",
    "    radius = x[:, 0]**2 + x[:, 1]**2\n",
    "    randomval = randn(n, 1)\n",
    "    y = np.array([(rad > 0.7 + 0.1 * r) & (rad < 2.2 + 0.1 * r) \\\n",
    "                                      for (rad, r) in zip(radius, randomval)])\n",
    "    y = 2 * y -1\n",
    "    return x, y[:, 0]\n",
    "\n",
    "x, y = dataset1()"
   ]
  },
  {
   "cell_type": "markdown",
   "metadata": {},
   "source": [
    "### 各種関数の定義\n",
    "\n",
    "条件付き確率 $p(y | {\\bf x})$を `p(w, x, y)` として定義した．\n",
    "\n",
    "また，微分前の関数$J(w)$ を`f(w, x, y)`,   \n",
    "$w$についての一階偏微分 $\\partial J(w)/ \\partial w$ を `f_prime(w, x ,y)`,  \n",
    "$w$についての二階偏微分 $\\partial J(w)/ \\partial w$ を `f_prime(w, x ,y)`とした．"
   ]
  },
  {
   "cell_type": "code",
   "execution_count": 2,
   "metadata": {
    "collapsed": true
   },
   "outputs": [],
   "source": [
    "import numpy as np\n",
    "\n",
    "def p(w, x_i, y_i):\n",
    "    return 1 / (1 + np.exp(-y_i*np.dot(w, x_i)))\n",
    "\n",
    "def f(w, x, y, Lambda=0.5):\n",
    "    res = 0\n",
    "    for (x_i, y_i) in zip(x, y):\n",
    "        res += np.log(1 / p(w, x_i, y_i))\n",
    "    res += Lambda* w.dot(w)\n",
    "    return res\n",
    "\n",
    "def f_prime(w, x, y, Lambda=0.5):\n",
    "    N = len(w)\n",
    "    res = np.zeros(N)\n",
    "    for (x_i, y_i) in zip(x, y):\n",
    "        res += (1 - p(w, x_i, y_i)) * ( -y_i * x_i) \n",
    "    res += 2*Lambda*w\n",
    "    return res\n",
    "\n",
    "def f_prime2(w, x, y, Lambda=0.):\n",
    "    N = len(w)\n",
    "    res = np.zeros((N, N))\n",
    "    for (x_i, y_i) in zip(x, y):\n",
    "        temp = p(w, x_i, y_i)*(1 - p(w, x_i, y_i))\n",
    "        temp *= np.expand_dims(x_i, 1)@np.expand_dims(x_i, 0)\n",
    "        res += temp\n",
    "    res += 2*Lambda\n",
    "    \n",
    "    \n",
    "    return res"
   ]
  },
  {
   "cell_type": "markdown",
   "metadata": {},
   "source": [
    "### (1) batch steepest gradient method\n",
    "batch steepest gradient methodを関数`gradient_method`として定義する．  \n",
    "この手法における重み $w$ 更新式は，学習率 $\\mu$ を用いて以下のように定義される．\n",
    "\n",
    "$$ w^{(t+1)} = w^{(t)} - \\mu \\frac{\\partial J(w^{(t)})}{\\partial w}$$\n",
    "\n",
    "### (2) Newton method\n",
    "\n",
    "Newton method を関数`newton_method`として定義する．  \n",
    "この手法における重み$w$ 更新式は，ヘッセ行列を $\\nabla J(w)$ を用いて以下のように定義される．\n",
    "\n",
    "$$ w^{(t+1)} = w^{(t)} -  {\\nabla J(w^{(t)})}^{-1} \\cdot J(w^{(t)})$$\n",
    "\n",
    "なお，今回の実装では各反復 $ t$ 毎の $J(w^{(t)})$ の値を保存し，返り値に加えている．"
   ]
  },
  {
   "cell_type": "code",
   "execution_count": 3,
   "metadata": {
    "collapsed": true
   },
   "outputs": [],
   "source": [
    "### (1) batch steepest gradient method\n",
    "def gradient_method(f,f_prime, init_w, learning_rate, x, y, iteration=50):\n",
    "    w = init_w\n",
    "    lst = [f(w, x, y)]\n",
    "    for i in np.arange(iteration):\n",
    "        w -= learning_rate * f_prime(w, x, y)\n",
    "        lst.append(f(w, x, y))\n",
    "        \n",
    "    return w, lst\n",
    "\n",
    "### (2) Newton method\n",
    "def newton_method(f, f_prime, f_prime2, init_x,  x, y, iteration=50):\n",
    "    w = init_w\n",
    "    lst = [f(w, x, y)]\n",
    "    for i in np.arange(iteration):\n",
    "        w -= np.dot(np.linalg.inv(f_prime2(w, x, y)), f_prime(w, x, y))\n",
    "        lst.append(f(w, x, y))\n",
    "    return w, lst"
   ]
  },
  {
   "cell_type": "markdown",
   "metadata": {},
   "source": [
    "### (3) 二つの手法の比較\n",
    "\n",
    "batch steepest gradient method と Newton method について，同一データセットに対する収束の仕方について比較をする．\n",
    "\n",
    "### データセットの可視化\n",
    "\n",
    "生成したデータセットについて，$y = 1$となるものを赤い色， $y = -1$ となるものを青を用いて可視化した.\n",
    "\n",
    "全データ数は100となる．\n"
   ]
  },
  {
   "cell_type": "code",
   "execution_count": 4,
   "metadata": {},
   "outputs": [
    {
     "data": {
      "image/png": "[encoded data removed]",
      "text/plain": [
       "<Figure size 432x288 with 1 Axes>"
      ]
     },
     "metadata": {},
     "output_type": "display_data"
    }
   ],
   "source": [
    "import matplotlib.pyplot as plt\n",
    "label1 = y == 1\n",
    "label2 = ~label1\n",
    "\n",
    "nodes1 = x[label1]\n",
    "nodes2 = x[label2]\n",
    "\n",
    "plt.scatter(nodes1[:, 0], nodes1[:, 1], c='red', marker='o')\n",
    "plt.scatter(nodes2[:, 0], nodes2[:, 1], c='blue', marker='x')\n",
    "plt.show()"
   ]
  },
  {
   "cell_type": "markdown",
   "metadata": {},
   "source": [
    "### 訓練結果\n",
    "\n",
    "それぞれの手法について，各反復ごとの$J(w^{(t)})$の値の変化をプロットする．  \n",
    "横軸は反復回数，縦軸は$J(w)$の値をそれぞれ表す．\n",
    "\n",
    "なお， batch steepest gradient method における学習率は0.01と設定した．  \n",
    "重みの初期値は$w=(0.8, 0.8)$と設定し， 正規化項に出現する定数について$\\Lambda = 0.5$ とした．  \n",
    "反復回数は15回として計測を行った．\n",
    "\n",
    "計測の結果によると，曲線的に値を減らしていった batch steepest gradient methodに対し，Newton methodでは3回程度の反復でほぼ値が収束していることがわかる．  \n",
    "最終的に，両者は反復回数15回程度でほぼ同じ値に収束したことがわかる．\n",
    "\n",
    "両者を比較した場合，Newton methodの方が大幅に高速に収束することがわかる．"
   ]
  },
  {
   "cell_type": "code",
   "execution_count": 5,
   "metadata": {
    "scrolled": true
   },
   "outputs": [
    {
     "name": "stdout",
     "output_type": "stream",
     "text": [
      "[0.8 0.8]\n",
      "[0.8 0.8]\n"
     ]
    },
    {
     "data": {
      "image/png": "[encoded data removed]",
      "text/plain": [
       "<Figure size 432x432 with 1 Axes>"
      ]
     },
     "metadata": {},
     "output_type": "display_data"
    }
   ],
   "source": [
    "import matplotlib.pyplot as plt\n",
    "learning_rate = 0.01\n",
    "x, y = dataset1()\n",
    "init_w = np.zeros(len(x[0])) + 0.8\n",
    "print(init_w)\n",
    "iteration = 15\n",
    "w_g, lst_g = gradient_method(f, f_prime, init_w, learning_rate, x, y, iteration)\n",
    "\n",
    "init_w = np.zeros(len(x[0])) + 0.8\n",
    "print(init_w)\n",
    "w_n, lst_n = newton_method(f, f_prime, f_prime2, init_w, x, y, iteration)\n",
    "\n",
    "\n",
    "length = len(lst_n)\n",
    "fig, ax = plt.subplots(1, 1, figsize=(6, 6))\n",
    "\n",
    "plt.plot(np.arange(length), lst_g, label='batch steepest gradient method')\n",
    "plt.plot(np.arange(length), lst_n, label='Newton method')\n",
    "plt.legend()\n",
    "plt.show()"
   ]
  },
  {
   "cell_type": "code",
   "execution_count": null,
   "metadata": {
    "collapsed": true
   },
   "outputs": [],
   "source": []
  },
  {
   "cell_type": "code",
   "execution_count": null,
   "metadata": {
    "collapsed": true
   },
   "outputs": [],
   "source": []
  }
 ],
 "metadata": {
  "kernelspec": {
   "display_name": "Python 3",
   "language": "python",
   "name": "python3"
  },
  "language_info": {
   "codemirror_mode": {
    "name": "ipython",
    "version": 3
   },
   "file_extension": ".py",
   "mimetype": "text/x-python",
   "name": "python",
   "nbconvert_exporter": "python",
   "pygments_lexer": "ipython3",
   "version": "3.6.5"
  }
 },
 "nbformat": 4,
 "nbformat_minor": 2
}
